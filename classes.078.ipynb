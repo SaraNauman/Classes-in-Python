{
 "cells": [
  {
   "cell_type": "markdown",
   "id": "81a365e3",
   "metadata": {},
   "source": [
    "# Classes in Python: A Comprehensive Guide\n",
    "\n",
    "## Introduction\n",
    "### In Python, classes are a fundamental building block for object-oriented programming (OOP). OOP is a programming paradigm that uses objects and classes to model real-world scenarios. They allow you to create user-defined data structures that encapsulate both data (attributes) and behavior (methods). This encapsulation promotes code reusability, modularity, and maintainability."
   ]
  },
  {
   "cell_type": "markdown",
   "id": "0a0d6649",
   "metadata": {},
   "source": [
    "## Key Concepts\n",
    "### Class: A blueprint for creating objects. It defines the attributes and methods that objects of that class will possess.\n",
    "### Object: An instance of a class. It has its own unique set of attribute values.\n",
    "### Attributes: Variables that store data associated with an object.\n",
    "### Methods: Functions that operate on the object's data.\n",
    "### Constructor: A special method called __init__ that is automatically invoked when an object is created. It initializes the object's attributes.\n",
    "## Creating a Class and Object"
   ]
  },
  {
   "cell_type": "code",
   "execution_count": 1,
   "id": "0239378a",
   "metadata": {},
   "outputs": [
    {
     "name": "stdout",
     "output_type": "stream",
     "text": [
      "Buddy\n",
      "Buddy barks!\n"
     ]
    }
   ],
   "source": [
    "class Dog:\n",
    "    def __init__(self, name, breed):\n",
    "        self.name = name\n",
    "        self.breed = breed\n",
    "\n",
    "    def bark(self):\n",
    "        print(f\"{self.name} barks!\")\n",
    "\n",
    "# Create an object of the Dog class\n",
    "my_dog = Dog(\"Buddy\", \"Golden Retriever\")\n",
    "\n",
    "# Access attributes and call methods\n",
    "print(my_dog.name)  # Output: Buddy\n",
    "my_dog.bark()  # Output: Buddy barks!"
   ]
  },
  {
   "cell_type": "code",
   "execution_count": 3,
   "id": "0c9bcc5e-0d0c-413e-bafb-43a781ddf427",
   "metadata": {},
   "outputs": [
    {
     "name": "stdout",
     "output_type": "stream",
     "text": [
      "sara\n",
      "sara is passed by 30\n"
     ]
    }
   ],
   "source": [
    "class students:\n",
    "    def __init__(self,name,marks):\n",
    "        self.name = name\n",
    "        self.marks = marks\n",
    "    def passing_marks(self):\n",
    "        print(f\"{self.name} is passed by {self.marks}\")\n",
    "\n",
    "student = students(\"sara\",30)\n",
    "print(student.name)\n",
    "student.passing_marks()\n",
    "    \n",
    "    "
   ]
  },
  {
   "cell_type": "markdown",
   "id": "db04f438",
   "metadata": {},
   "source": [
    "## Inheritance\n",
    "### Inheritance allows you to create new classes (child classes) that inherit attributes and methods from existing classes (parent classes). This promotes code reuse and hierarchical relationships between classes."
   ]
  },
  {
   "cell_type": "code",
   "execution_count": 2,
   "id": "9dcf9e3a",
   "metadata": {},
   "outputs": [
    {
     "name": "stdout",
     "output_type": "stream",
     "text": [
      "Buddy is eating.\n",
      "Buddy barks!\n"
     ]
    }
   ],
   "source": [
    "class Animal:\n",
    "    def __init__(self, name):\n",
    "        self.name = name\n",
    "\n",
    "    def eat(self):\n",
    "        print(f\"{self.name} is eating.\")\n",
    "\n",
    "class Dog(Animal):\n",
    "    def bark(self):\n",
    "        print(f\"{self.name} barks!\")\n",
    "\n",
    "my_dog = Dog(\"Buddy\")\n",
    "my_dog.eat()  # Output: Buddy is eating.\n",
    "my_dog.bark()  # Output: Buddy barks!"
   ]
  },
  {
   "cell_type": "markdown",
   "id": "d76e9927",
   "metadata": {},
   "source": [
    "## Encapsulation\n",
    "### Encapsulation is the practice of hiding the internal implementation details of a class from the outside world. This promotes code modularity and prevents unintended modifications."
   ]
  },
  {
   "cell_type": "code",
   "execution_count": 3,
   "id": "788a14d6",
   "metadata": {},
   "outputs": [],
   "source": [
    "class BankAccount:\n",
    "    def __init__(self, balance):\n",
    "        self.__balance = balance  # Private attribute\n",
    "\n",
    "    def deposit(self, amount):\n",
    "        self.__balance += amount\n",
    "\n",
    "    def withdraw(self, amount):\n",
    "        if self.__balance >= amount:\n",
    "            self.__balance -= amount\n",
    "        else:\n",
    "            print(\"Insufficient funds.\")\n",
    "\n",
    "    def get_balance(self):\n",
    "        return self.__balance"
   ]
  },
  {
   "cell_type": "markdown",
   "id": "99ec9b48",
   "metadata": {},
   "source": [
    "## Practice Exercises\n",
    "\n",
    "### 1. Create a class Person with attributes name, age, and city.\n",
    "### 2. Create a class Car with attributes make, model, and year.\n",
    "### 3. Create a class Circle with attributes radius and methods to calculate area and circumference.\n",
    "### 4. Create a class Rectangle with attributes length and width and methods to calculate area and perimeter.\n",
    "### 5. Create a class Student with attributes name, roll_number, and marks. Implement a method to calculate the average marks.\n",
    "### 6. Create a class Book with attributes title, author, and publication_year.\n",
    "### 7. Create a class Employee with attributes name, salary, and designation.\n",
    "### 8. Create a class Bank with attributes name, account_number, and balance. Implement methods to deposit and withdraw money.\n",
    "### 9. Create a class Shape with a method to calculate area. Create subclasses Circle, Rectangle, and Triangle that inherit from Shape and implement their specific area calculations.\n",
    "### 10. Create a class Animal with attributes name and sound. Create subclasses Dog, Cat, and Cow that inherit from Animal and implement their specific sounds.\n",
    "\n",
    "## Additional Tips\n",
    "### Use meaningful names for classes, attributes, and methods.\n",
    "### Write clear and concise code.\n",
    "### Use comments to explain complex logic.\n",
    "### Test your code thoroughly.\n",
    "### Consider using inheritance to avoid code duplication.\n",
    "### Encapsulate data to protect it from accidental modification.\n",
    "### Use polymorphism to create flexible and adaptable code."
   ]
  },
  {
   "cell_type": "code",
   "execution_count": 6,
   "id": "cae0ab42",
   "metadata": {},
   "outputs": [
    {
     "name": "stdout",
     "output_type": "stream",
     "text": [
      "sara\n",
      "18\n",
      "LHR\n"
     ]
    }
   ],
   "source": [
    "class person: \n",
    "    def __init__(self,name,age,city): \n",
    "        self.name=name\n",
    "        self.age=age\n",
    "        self.city=city\n",
    "i_person=person(\"sara\",18,\"LHR\") \n",
    "print(i_person.name)\n",
    "print(i_person.age) \n",
    "print(i_person.city)"
   ]
  },
  {
   "cell_type": "code",
   "execution_count": 13,
   "id": "0afa003e-cb00-46c8-ab0b-fc18b102ed21",
   "metadata": {},
   "outputs": [
    {
     "name": "stdout",
     "output_type": "stream",
     "text": [
      "Honda\n",
      "City\n",
      "2015\n"
     ]
    }
   ],
   "source": [
    "class car:#class\n",
    "    def __init__(self,make,model,year):\n",
    "        self.make=make\n",
    "        self.model=model \n",
    "        self.year=year\n",
    "my_car=car(\"Honda\",\"City\",2015)\n",
    "print(my_car.make)\n",
    "print(my_car.model)\n",
    "print(my_car.year)"
   ]
  },
  {
   "cell_type": "code",
   "execution_count": 31,
   "id": "f58542b8-9c3e-4a67-8d76-809ce42019c6",
   "metadata": {},
   "outputs": [
    {
     "name": "stdout",
     "output_type": "stream",
     "text": [
      "GAMBIT flies F-16 Fighting Falcon.\n",
      "GAMBIT commands Griffins!\n"
     ]
    }
   ],
   "source": [
    "class human:\n",
    "    def __init__(self,name):\n",
    "        self.name=name\n",
    "    def flies(self):\n",
    "        print(f\"{self.name} flies F-16 Fighting Falcon.\")\n",
    "class person(human):\n",
    "    def commands(self):\n",
    "        print(f\"{self.name} commands Griffins!\")\n",
    "person_2=person(\"GAMBIT\")\n",
    "person_2.flies()\n",
    "person_2.commands()"
   ]
  },
  {
   "cell_type": "code",
   "execution_count": 32,
   "id": "966e4cdb-c863-4c7d-a5fa-765a529d2008",
   "metadata": {},
   "outputs": [
    {
     "name": "stdout",
     "output_type": "stream",
     "text": [
      "Area: 254.46900494077323\n",
      "Circumference: 56.548667764616276\n"
     ]
    }
   ],
   "source": [
    "import math\n",
    "class Circle:  \n",
    "    def __init__(self, radius):\n",
    "        self.radius = radius\n",
    "    def area(self):\n",
    "        return math.pi * self.radius ** 2\n",
    "    def circumference(self):\n",
    "        return 2 * math.pi * self.radius\n",
    "circle = Circle(9)\n",
    "print(\"Area:\", circle.area())  \n",
    "print(\"Circumference:\", circle.circumference())"
   ]
  },
  {
   "cell_type": "code",
   "execution_count": 31,
   "id": "30ddd25e-3745-4348-8960-75d49cd5bcf0",
   "metadata": {},
   "outputs": [
    {
     "name": "stdout",
     "output_type": "stream",
     "text": [
      "Area: 8\n",
      "Perimeter: 12\n"
     ]
    }
   ],
   "source": [
    "import math\n",
    "class Rectangle:\n",
    "    def __init__(self,length,width):\n",
    "        self.length=length\n",
    "        self.width=width\n",
    "    def area(self):\n",
    "        return self.length*self.width\n",
    "    def perimeter(self):\n",
    "        return 2*(self.length+self.width)\n",
    "rectangle=Rectangle(4,2)\n",
    "print(\"Area:\",rectangle.area())\n",
    "print(\"Perimeter:\",rectangle.perimeter())"
   ]
  },
  {
   "cell_type": "code",
   "execution_count": 9,
   "id": "86cd99bd-3436-46c6-b2ca-ea6a0694deb3",
   "metadata": {},
   "outputs": [
    {
     "name": "stdout",
     "output_type": "stream",
     "text": [
      "sara's average marks are: 65.0\n"
     ]
    }
   ],
   "source": [
    "class Student:\n",
    "    def __init__(self, name, roll_number, marks):\n",
    "        self.name = name\n",
    "        self.roll_number = roll_number\n",
    "        self.marks = marks      \n",
    "    def calculate_average(self):\n",
    "        if len(self.marks) == 0:\n",
    "            return 0  \n",
    "        return sum(self.marks) / len(self.marks)\n",
    "student1 = Student(\"sara\", 101, [80,70,30,80])\n",
    "average_marks = student1.calculate_average()\n",
    "print(f\"{student1.name}'s average marks are: {average_marks}\")"
   ]
  },
  {
   "cell_type": "code",
   "execution_count": 11,
   "id": "6a488787-dbe9-431a-a36d-453ec8a28f43",
   "metadata": {},
   "outputs": [
    {
     "name": "stdout",
     "output_type": "stream",
     "text": [
      "harry potter\n",
      "JK rowling\n",
      "2015\n"
     ]
    }
   ],
   "source": [
    "class book:\n",
    "    def __init__(self,title,author,publication_year):\n",
    "        self.title= title\n",
    "        self.author= author\n",
    "        self.publication_year= publication_year\n",
    "my_book=book(\"harry potter\",\"JK rowling\",2015)\n",
    "print(my_book.title)\n",
    "print(my_book.author)\n",
    "print(my_book.publication_year)"
   ]
  },
  {
   "cell_type": "code",
   "execution_count": 19,
   "id": "d329b777-39f5-4990-84eb-8cfb03925346",
   "metadata": {},
   "outputs": [
    {
     "name": "stdout",
     "output_type": "stream",
     "text": [
      "asjad\n",
      "22000\n",
      "manager\n"
     ]
    }
   ],
   "source": [
    "class employee:\n",
    "    def __init__(self,name,salary,designation):\n",
    "        self.name = name\n",
    "        self.salary = salary\n",
    "        self.designation = designation\n",
    "employee_1 = employee(\"asjad\",22000,\"manager\")\n",
    "print(employee_1.name)\n",
    "print(employee_1.salary)\n",
    "print(employee_1.designation)"
   ]
  },
  {
   "cell_type": "code",
   "execution_count": 28,
   "id": "09149b0e-a6c2-4f5f-bcba-fe4e64112fe3",
   "metadata": {},
   "outputs": [
    {
     "name": "stdout",
     "output_type": "stream",
     "text": [
      "Area of Circle: 78.53981633974483\n",
      "Area of Rectangle: 24\n",
      "Area of Triangle: 6.0\n"
     ]
    }
   ],
   "source": [
    "import math\n",
    "class Shape:\n",
    "    def area(self):\n",
    "        return 0     \n",
    "class Circle(Shape):\n",
    "    def __init__(self, radius):\n",
    "        self.radius = radius\n",
    "    def area(self):\n",
    "        return math.pi * self.radius ** 2\n",
    "class Rectangle(Shape):\n",
    "    def __init__(self, length, width):\n",
    "        self.length = length\n",
    "        self.width = width\n",
    "    def area(self):\n",
    "        return self.length * self.width\n",
    "class Triangle(Shape):\n",
    "    def __init__(self, base, height):\n",
    "        self.base = base\n",
    "        self.height = height\n",
    "    def area(self):\n",
    "        return 0.5 * self.base * self.height\n",
    "circle = Circle(5)\n",
    "print(f\"Area of Circle: {circle.area()}\")\n",
    "rectangle = Rectangle(4, 6)\n",
    "print(f\"Area of Rectangle: {rectangle.area()}\")\n",
    "triangle = Triangle(4, 3)\n",
    "print(f\"Area of Triangle: {triangle.area()}\")"
   ]
  },
  {
   "cell_type": "code",
   "execution_count": 51,
   "id": "081368be-9b58-41a6-8a12-d20f43035331",
   "metadata": {},
   "outputs": [
    {
     "name": "stdout",
     "output_type": "stream",
     "text": [
      "MIKE makes bark sound\n",
      "SIMBA makes meow sound\n",
      "DAISY makes moo sound\n"
     ]
    }
   ],
   "source": [
    "class Animal:\n",
    "    def __init__(self, name, sound):\n",
    "        self.name = name  \n",
    "        self.sound = sound     \n",
    "    def make_sound(self):\n",
    "        print(f\"{self.name} makes {self.sound} sound\")\n",
    "class Dog(Animal):\n",
    "    def __init__(self, name):\n",
    "        super().__init__(name, \"bark\") \n",
    "class Cat(Animal):\n",
    "    def __init__(self, name):\n",
    "        super().__init__(name, \"meow\") \n",
    "class Cow(Animal):\n",
    "    def __init__(self, name):\n",
    "        super().__init__(name, \"moo\") \n",
    "dog = Dog(\"MIKE\")\n",
    "cat = Cat(\"SIMBA\")\n",
    "cow = Cow(\"DAISY\")\n",
    "dog.make_sound() \n",
    "cat.make_sound() \n",
    "cow.make_sound()  "
   ]
  },
  {
   "cell_type": "code",
   "execution_count": null,
   "id": "2ce15398-c330-4c81-ae2b-21c6d1793c9a",
   "metadata": {},
   "outputs": [],
   "source": []
  }
 ],
 "metadata": {
  "kernelspec": {
   "display_name": "Python 3 (ipykernel)",
   "language": "python",
   "name": "python3"
  },
  "language_info": {
   "codemirror_mode": {
    "name": "ipython",
    "version": 3
   },
   "file_extension": ".py",
   "mimetype": "text/x-python",
   "name": "python",
   "nbconvert_exporter": "python",
   "pygments_lexer": "ipython3",
   "version": "3.12.4"
  }
 },
 "nbformat": 4,
 "nbformat_minor": 5
}
