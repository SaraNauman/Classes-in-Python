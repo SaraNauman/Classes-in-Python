{
 "cells": [
  {
   "cell_type": "code",
   "execution_count": null,
   "id": "13d58a70-07d8-447d-bd87-91abc721a59c",
   "metadata": {
    "id": "13d58a70-07d8-447d-bd87-91abc721a59c",
    "outputId": "b0f013b8-ea62-496a-b341-4739257a4e24"
   },
   "outputs": [
    {
     "name": "stdout",
     "output_type": "stream",
     "text": [
      "1\n",
      "2\n",
      "3\n",
      "4\n",
      "5\n",
      "6\n",
      "7\n",
      "8\n",
      "9\n",
      "10\n"
     ]
    }
   ],
   "source": [
    "for i in range(1,11):\n",
    "    print (i)"
   ]
  },
  {
   "cell_type": "code",
   "execution_count": null,
   "id": "e0cf0e2c-bdc0-48e2-8dcf-b51637574839",
   "metadata": {
    "id": "e0cf0e2c-bdc0-48e2-8dcf-b51637574839",
    "outputId": "1f801d87-07a1-4c8e-cb6d-7b1de7a511a6"
   },
   "outputs": [
    {
     "name": "stdout",
     "output_type": "stream",
     "text": [
      "The sum of the first 20 natural numbers is: 210\n"
     ]
    }
   ],
   "source": [
    "sum_of_numbers = 0\n",
    "i = 1\n",
    "while i <= 20:\n",
    "    sum_of_numbers += i\n",
    "    i += 1\n",
    "print(\"The sum of the first 20 natural numbers is:\", sum_of_numbers)"
   ]
  },
  {
   "cell_type": "code",
   "execution_count": null,
   "id": "cd4d19b6-8ae4-4ded-a836-01c3033365e8",
   "metadata": {
    "id": "cd4d19b6-8ae4-4ded-a836-01c3033365e8",
    "outputId": "1953ae91-d8b9-4d51-aa4d-056aa7d61733"
   },
   "outputs": [
    {
     "name": "stdin",
     "output_type": "stream",
     "text": [
      "enter a word sata\n"
     ]
    },
    {
     "name": "stdout",
     "output_type": "stream",
     "text": [
      "s\n",
      "a\n",
      "t\n",
      "a\n"
     ]
    }
   ],
   "source": [
    "word = input(\"enter a word\")\n",
    "for char in word:\n",
    "    print(char)"
   ]
  },
  {
   "cell_type": "code",
   "execution_count": null,
   "id": "d30b715c-cb2a-4f23-93a0-e4396fd7a5f5",
   "metadata": {
    "id": "d30b715c-cb2a-4f23-93a0-e4396fd7a5f5",
    "outputId": "79902351-f547-49cf-f34f-cae34e808a66"
   },
   "outputs": [
    {
     "name": "stdout",
     "output_type": "stream",
     "text": [
      "7\n",
      "6\n",
      "5\n",
      "4\n",
      "3\n",
      "2\n",
      "1\n",
      "0\n"
     ]
    }
   ],
   "source": [
    "number = 7\n",
    "while number>= 0:\n",
    "    print(number)\n",
    "    number -= 1\n"
   ]
  },
  {
   "cell_type": "code",
   "execution_count": null,
   "id": "03e12635-0831-4a4c-a5fa-910bfac2f469",
   "metadata": {
    "id": "03e12635-0831-4a4c-a5fa-910bfac2f469",
    "outputId": "b5cc13f8-2c7c-4a0b-cd7a-21529c5ca501"
   },
   "outputs": [
    {
     "name": "stdout",
     "output_type": "stream",
     "text": [
      "2\n",
      "4\n",
      "6\n",
      "8\n",
      "10\n",
      "12\n",
      "14\n",
      "16\n",
      "18\n",
      "20\n",
      "22\n",
      "24\n",
      "26\n",
      "28\n",
      "30\n",
      "32\n",
      "34\n",
      "36\n",
      "38\n",
      "40\n",
      "42\n",
      "44\n",
      "46\n",
      "48\n",
      "50\n"
     ]
    }
   ],
   "source": [
    "for i in range(2,51,2):\n",
    "    print(i)"
   ]
  },
  {
   "cell_type": "code",
   "execution_count": null,
   "id": "9ae64b84-41f5-44c8-9a79-ab7651810eed",
   "metadata": {
    "id": "9ae64b84-41f5-44c8-9a79-ab7651810eed",
    "outputId": "fce8a1bf-b3ac-4e37-df45-48c48b90cd77"
   },
   "outputs": [
    {
     "name": "stdin",
     "output_type": "stream",
     "text": [
      "enter a number 2\n"
     ]
    },
    {
     "name": "stdout",
     "output_type": "stream",
     "text": [
      "2 x 1 = 2\n",
      "2 x 2 = 4\n",
      "2 x 3 = 6\n",
      "2 x 4 = 8\n",
      "2 x 5 = 10\n",
      "2 x 6 = 12\n",
      "2 x 7 = 14\n",
      "2 x 8 = 16\n",
      "2 x 9 = 18\n",
      "2 x 10 = 20\n"
     ]
    }
   ],
   "source": [
    "number = int(input(\"enter a number\"))\n",
    "for i in range(1,11):\n",
    "    print(f\"{number} x {i} = {number*i}\")"
   ]
  },
  {
   "cell_type": "code",
   "execution_count": null,
   "id": "7443cdec-393c-4ffc-81ca-12d564a66ffc",
   "metadata": {
    "id": "7443cdec-393c-4ffc-81ca-12d564a66ffc"
   },
   "outputs": [],
   "source": [
    "given_int = 14\n",
    "factorial = 1\n",
    "if given_int<0:\n",
    "    while"
   ]
  },
  {
   "cell_type": "code",
   "execution_count": null,
   "id": "c46d806c-4e94-4038-a02a-8e874996a135",
   "metadata": {
    "id": "c46d806c-4e94-4038-a02a-8e874996a135",
    "outputId": "2eba5afb-cfad-4f68-ae39-034edf1c3a3f"
   },
   "outputs": [
    {
     "name": "stdin",
     "output_type": "stream",
     "text": [
      "enter a nummber 5\n"
     ]
    },
    {
     "name": "stdout",
     "output_type": "stream",
     "text": [
      "The factorial is: 120\n"
     ]
    }
   ],
   "source": [
    "number =int(input(\"enter a nummber\"))\n",
    "factorial = 1\n",
    "if number < 0:\n",
    "    print(\"Factorial is not defined for negative numbers.\")\n",
    "else:\n",
    "    while number > 1:\n",
    "        factorial *= number\n",
    "        number -= 1\n",
    "    print(f\"The factorial is: {factorial}\")"
   ]
  },
  {
   "cell_type": "code",
   "execution_count": null,
   "id": "58ef24b8-1098-49e1-8098-f023c5b1672e",
   "metadata": {
    "id": "58ef24b8-1098-49e1-8098-f023c5b1672e",
    "outputId": "552fb2f0-6545-4d79-dd80-f700edb44953"
   },
   "outputs": [
    {
     "name": "stdout",
     "output_type": "stream",
     "text": [
      "15\n",
      "30\n",
      "45\n",
      "60\n",
      "75\n",
      "90\n"
     ]
    }
   ],
   "source": [
    "for number in range(1, 101):\n",
    "    if number % 3 == 0 and number % 5 == 0:\n",
    "        print(number)"
   ]
  },
  {
   "cell_type": "code",
   "execution_count": null,
   "id": "f0263013-b732-4877-802c-961e31b39927",
   "metadata": {
    "id": "f0263013-b732-4877-802c-961e31b39927",
    "outputId": "809a9e14-f7dd-4706-b7f9-192c1956204b"
   },
   "outputs": [
    {
     "name": "stdout",
     "output_type": "stream",
     "text": [
      "0 1 1 2 3 5 8 13 21 34 "
     ]
    }
   ],
   "source": [
    "a, b = 0, 1\n",
    "count = 1\n",
    "while count <= 10:\n",
    "    print(a, end=' ')\n",
    "    a, b = b, a + b\n",
    "    count += 1"
   ]
  },
  {
   "cell_type": "code",
   "execution_count": null,
   "id": "6c679c59-0223-4195-941c-ef62e6da742f",
   "metadata": {
    "id": "6c679c59-0223-4195-941c-ef62e6da742f",
    "outputId": "eef0512f-db3c-44df-f40b-d911e35b58e1"
   },
   "outputs": [
    {
     "name": "stdin",
     "output_type": "stream",
     "text": [
      "Enter the principal amount:  500\n",
      "Enter the annual interest rate in %:  50\n"
     ]
    },
    {
     "name": "stdout",
     "output_type": "stream",
     "text": [
      "Year 1: Amount = 750.0, Interest = 250.0\n",
      "Year 2: Amount = 1125.0, Interest = 625.0\n",
      "Year 3: Amount = 1687.5, Interest = 1187.5\n",
      "Year 4: Amount = 2531.25, Interest = 2031.25\n",
      "Year 5: Amount = 3796.875, Interest = 3296.875\n"
     ]
    }
   ],
   "source": [
    "principal = float(input(\"Enter the principal amount: \"))\n",
    "rate = float(input(\"Enter the annual interest rate in %: \"))\n",
    "years = 5\n",
    "for t in range(1, years + 1):\n",
    "    amount = principal * (1 + rate / 100) ** t\n",
    "    interest = amount - principal\n",
    "    print(f\"Year {t}: Amount = {amount}, Interest = {interest}\")"
   ]
  },
  {
   "cell_type": "code",
   "execution_count": null,
   "id": "97161521-6361-402f-bd51-7b1dd2365a12",
   "metadata": {
    "id": "97161521-6361-402f-bd51-7b1dd2365a12",
    "outputId": "0b3dfc6e-3997-44a3-a307-d349474e1e7b"
   },
   "outputs": [
    {
     "name": "stdin",
     "output_type": "stream",
     "text": [
      "Enter a string:  hello\n"
     ]
    },
    {
     "name": "stdout",
     "output_type": "stream",
     "text": [
      "Reversed string: olleh\n"
     ]
    }
   ],
   "source": [
    "user_input = input(\"Enter a string: \")\n",
    "reversed_string = \"\"\n",
    "for char in user_input:\n",
    "    reversed_string = char + reversed_string\n",
    "print(\"Reversed string:\", reversed_string)"
   ]
  },
  {
   "cell_type": "code",
   "execution_count": null,
   "id": "a90ca5b1-6a9f-49d0-8f20-a601e57dca5d",
   "metadata": {
    "id": "a90ca5b1-6a9f-49d0-8f20-a601e57dca5d",
    "outputId": "e942ac27-e3ef-4b0e-df3b-88a967cbbf9b"
   },
   "outputs": [
    {
     "name": "stdin",
     "output_type": "stream",
     "text": [
      "Enter a list of numbers separated by spaces:  7 9 3 6 2 8\n"
     ]
    },
    {
     "name": "stdout",
     "output_type": "stream",
     "text": [
      "The minimum value is: 2\n",
      "The maximum value is: 9\n"
     ]
    }
   ],
   "source": [
    "user_input = input(\"Enter a list of numbers separated by spaces: \")\n",
    "numbers = [int(num) for num in user_input.split()]\n",
    "min_value = numbers[0]\n",
    "max_value = numbers[0]\n",
    "for num in numbers:\n",
    "    if num < min_value:\n",
    "        min_value = num\n",
    "    if num > max_value:\n",
    "        max_value = num\n",
    "print(f\"The minimum value is: {min_value}\")\n",
    "print(f\"The maximum value is: {max_value}\")\n",
    "\n"
   ]
  },
  {
   "cell_type": "code",
   "execution_count": null,
   "id": "884b15c5-698a-4fce-b880-8c74061132c3",
   "metadata": {
    "id": "884b15c5-698a-4fce-b880-8c74061132c3",
    "outputId": "34926cbb-7881-4c3a-a32c-1e00293f5292"
   },
   "outputs": [
    {
     "name": "stdout",
     "output_type": "stream",
     "text": [
      "11\n",
      "13\n",
      "17\n",
      "19\n",
      "23\n",
      "29\n",
      "31\n",
      "37\n",
      "41\n",
      "43\n",
      "47\n"
     ]
    }
   ],
   "source": [
    "for num in range(10, 51):\n",
    "    prime = True\n",
    "    for i in range(2, num):\n",
    "        if num % i == 0:\n",
    "            prime = False\n",
    "            break\n",
    "    if prime:\n",
    "        print(num)\n"
   ]
  },
  {
   "cell_type": "code",
   "execution_count": null,
   "id": "f6640e04-a4a2-4a7a-b4c5-cda576170edc",
   "metadata": {
    "id": "f6640e04-a4a2-4a7a-b4c5-cda576170edc",
    "outputId": "1c6a5c43-194e-40ca-df9f-cdf51fd39b1b"
   },
   "outputs": [
    {
     "name": "stdin",
     "output_type": "stream",
     "text": [
      "Enter an integer:  222\n"
     ]
    },
    {
     "name": "stdout",
     "output_type": "stream",
     "text": [
      "222 is a palindrome.\n"
     ]
    }
   ],
   "source": [
    "number = int(input(\"Enter an integer: \"))\n",
    "original_number = number\n",
    "reversed_number = 0\n",
    "while number > 0:\n",
    "    digit = number % 10\n",
    "    reversed_number = reversed_number * 10 + digit\n",
    "    number //= 10\n",
    "if original_number == reversed_number:\n",
    "    print(f\"{original_number} is a palindrome.\")\n",
    "else:\n",
    "    print(f\"{original_number} is not a palindrome.\")\n"
   ]
  },
  {
   "cell_type": "code",
   "execution_count": null,
   "id": "45f84b57-d57e-445b-90ff-6a32695cc9d1",
   "metadata": {
    "id": "45f84b57-d57e-445b-90ff-6a32695cc9d1",
    "outputId": "676e4f64-a405-4a68-a960-fd8394cf8912"
   },
   "outputs": [
    {
     "name": "stdout",
     "output_type": "stream",
     "text": [
      "Selling 1 milk. Remaining: 4\n",
      "Selling 1 milk. Remaining: 3\n",
      "Selling 1 milk. Remaining: 2\n",
      "Selling 1 milk. Remaining: 1\n",
      "Selling 1 milk. Remaining: 0\n",
      "milk is sold out.\n",
      "Selling 1 bread. Remaining: 2\n",
      "Selling 1 bread. Remaining: 1\n",
      "Selling 1 bread. Remaining: 0\n",
      "bread is sold out.\n",
      "Selling 1 cake. Remaining: 6\n",
      "Selling 1 cake. Remaining: 5\n",
      "Selling 1 cake. Remaining: 4\n",
      "Selling 1 cake. Remaining: 3\n",
      "Selling 1 cake. Remaining: 2\n",
      "Selling 1 cake. Remaining: 1\n",
      "Selling 1 cake. Remaining: 0\n",
      "cake is sold out.\n"
     ]
    }
   ],
   "source": [
    "items = {\"milk\": 5, \"bread\": 3, \"cake\": 7}\n",
    "for item, quantity in items.items():\n",
    "    while quantity > 0:\n",
    "        print(f\"Selling 1 {item}. Remaining: {quantity - 1}\")\n",
    "        quantity -= 1\n",
    "    print(f\"{item} is sold out.\")"
   ]
  },
  {
   "cell_type": "code",
   "execution_count": null,
   "id": "119d4d00-00ec-4ccd-ac27-c51a99171369",
   "metadata": {
    "id": "119d4d00-00ec-4ccd-ac27-c51a99171369",
    "outputId": "d8459e04-b893-41fd-c73c-74bff232c058"
   },
   "outputs": [
    {
     "name": "stdout",
     "output_type": "stream",
     "text": [
      "Total project cost: 1302\n",
      "Number of expenses covered: 4, Remaining budget: 1698\n"
     ]
    }
   ],
   "source": [
    "expenses = [700, 12, 190, 400]\n",
    "budget = 3000\n",
    "total_expense = 0\n",
    "for expense in expenses:\n",
    "    total_expense += expense\n",
    "print(\"Total project cost:\", total_expense)\n",
    "covered_expenses = 0\n",
    "while budget > 0 and covered_expenses < len(expenses):\n",
    "    budget -= expenses[covered_expenses]\n",
    "    covered_expenses += 1\n",
    "print(f\"Number of expenses covered: {covered_expenses}, Remaining budget: {budget}\")"
   ]
  },
  {
   "cell_type": "code",
   "execution_count": null,
   "id": "ead31d4b-51b9-4a27-b804-06d96c8a96aa",
   "metadata": {
    "id": "ead31d4b-51b9-4a27-b804-06d96c8a96aa",
    "outputId": "64369abc-7473-4067-984c-6d92f069f593"
   },
   "outputs": [
    {
     "name": "stdout",
     "output_type": "stream",
     "text": [
      "Sara attended.\n",
      "Reminder 1 sent to farah.\n",
      "farah attended.\n",
      "muhammad attended.\n",
      "Reminder 1 sent to ali.\n",
      "ali attended.\n"
     ]
    }
   ],
   "source": [
    "import random\n",
    "employees = [\"Sara\", \"farah\", \"muhammad\", \"ali\"]\n",
    "for employee in employees:\n",
    "    attempts = 0\n",
    "    while attempts < 3:\n",
    "        if random.choice([True, False]):\n",
    "            print(f\"{employee} attended.\")\n",
    "            break\n",
    "        else:\n",
    "            print(f\"Reminder {attempts + 1} sent to {employee}.\")\n",
    "            attempts += 1"
   ]
  },
  {
   "cell_type": "code",
   "execution_count": null,
   "id": "a8638804-df17-4707-8e22-cdf6ef3bee07",
   "metadata": {
    "id": "a8638804-df17-4707-8e22-cdf6ef3bee07",
    "outputId": "63e22e70-83f7-43d7-b0ac-3a667c9bd2c6"
   },
   "outputs": [
    {
     "name": "stdin",
     "output_type": "stream",
     "text": [
      "Confirm details for transaction 1 (type 'yes' to confirm):  yrs\n",
      "Confirm details for transaction 1 (type 'yes' to confirm):  yes\n",
      "Confirm details for transaction 2 (type 'yes' to confirm):  yes\n"
     ]
    },
    {
     "name": "stdout",
     "output_type": "stream",
     "text": [
      "All transactions confirmed.\n"
     ]
    }
   ],
   "source": [
    "transactions = [{\"id\": 1, \"amount\": 1000}, {\"id\": 2, \"amount\": 250}]\n",
    "for transaction in transactions:\n",
    "    confirmation = \"\"\n",
    "    while confirmation.lower() != \"yes\":\n",
    "        confirmation = input(f\"Confirm details for transaction {transaction['id']} (type 'yes' to confirm): \")\n",
    "print(\"All transactions confirmed.\")"
   ]
  },
  {
   "cell_type": "code",
   "execution_count": null,
   "id": "d6775a11-2038-4c6b-bf74-5c4f2d0f5965",
   "metadata": {
    "id": "d6775a11-2038-4c6b-bf74-5c4f2d0f5965",
    "outputId": "440e1afc-8c1d-4577-c334-567a4365f062"
   },
   "outputs": [
    {
     "name": "stdout",
     "output_type": "stream",
     "text": [
      "Resolved Issue 1 in 1 attempts.\n",
      "Resolved Issue 1 in 2 attempts.\n",
      "Resolved Issue 1 in 3 attempts.\n",
      "Resolved Issue 2 in 1 attempts.\n",
      "Resolved Issue 2 in 2 attempts.\n",
      "Resolved Issue 2 in 3 attempts.\n",
      "Resolved Issue 3 in 1 attempts.\n",
      "Resolved Issue 3 in 2 attempts.\n",
      "Resolved Issue 3 in 3 attempts.\n"
     ]
    }
   ],
   "source": [
    "issues = [\"Issue 1\", \"Issue 2\", \"Issue 3\"]\n",
    "for issue in issues[:10]:\n",
    "    attempts = 0\n",
    "    while attempts < 3:\n",
    "        attempts += 1\n",
    "        resolved = True\n",
    "        print(f\"Resolved {issue} in {attempts} attempts.\")"
   ]
  },
  {
   "cell_type": "code",
   "execution_count": null,
   "id": "09429d62-6793-4b10-b977-1b7c2d65f7f2",
   "metadata": {
    "id": "09429d62-6793-4b10-b977-1b7c2d65f7f2",
    "outputId": "dcd9ac28-ffd8-4aed-fe21-18c7eb7c433d"
   },
   "outputs": [
    {
     "name": "stdout",
     "output_type": "stream",
     "text": [
      "Final grade: 30\n",
      "Final grade: 76\n",
      "Final grade: 95\n"
     ]
    }
   ],
   "source": [
    "scores = [30, 76, 95]\n",
    "for score in scores:\n",
    "    while score > 100:\n",
    "        score = 100\n",
    "    print(\"Final grade:\", score)"
   ]
  },
  {
   "cell_type": "code",
   "execution_count": null,
   "id": "555ce307-11a6-4f80-b39d-aa1a3e2cb434",
   "metadata": {
    "id": "555ce307-11a6-4f80-b39d-aa1a3e2cb434"
   },
   "outputs": [],
   "source": []
  }
 ],
 "metadata": {
  "colab": {
   "provenance": []
  },
  "kernelspec": {
   "display_name": "Python 3 (ipykernel)",
   "language": "python",
   "name": "python3"
  },
  "language_info": {
   "codemirror_mode": {
    "name": "ipython",
    "version": 3
   },
   "file_extension": ".py",
   "mimetype": "text/x-python",
   "name": "python",
   "nbconvert_exporter": "python",
   "pygments_lexer": "ipython3",
   "version": "3.12.4"
  }
 },
 "nbformat": 4,
 "nbformat_minor": 5
}
