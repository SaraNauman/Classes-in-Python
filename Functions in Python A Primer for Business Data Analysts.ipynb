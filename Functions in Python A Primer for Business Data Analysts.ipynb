{
 "cells": [
  {
   "cell_type": "markdown",
   "id": "3cddad5c",
   "metadata": {},
   "source": [
    "# Functions in Python: A Primer for Business Data Analysts"
   ]
  },
  {
   "cell_type": "markdown",
   "id": "9be8489d",
   "metadata": {},
   "source": [
    "## Introduction\n",
    "### Functions are fundamental building blocks in Python programming. They allow you to encapsulate a specific task or calculation into a reusable block of code. This promotes modularity, reusability, and readability in your scripts.\n",
    "\n",
    "## Defining a Function\n",
    "### To define a function in Python, you use the def keyword followed by the function name and parentheses. Inside the parentheses, you can define parameters, which are variables that accept input values. The function's body is indented and contains the code that will be executed when the function is called."
   ]
  },
  {
   "cell_type": "code",
   "execution_count": null,
   "id": "4040b2ae",
   "metadata": {},
   "outputs": [],
   "source": [
    "def greet(name):\n",
    "  print(\"Hello, \" + name + \"!\")"
   ]
  },
  {
   "cell_type": "markdown",
   "id": "a8a04000",
   "metadata": {},
   "source": [
    "## Calling a Function\n",
    "### To execute a function, you simply call it by its name, followed by any necessary arguments:"
   ]
  },
  {
   "cell_type": "code",
   "execution_count": null,
   "id": "2d499e44",
   "metadata": {},
   "outputs": [],
   "source": [
    "greet(\"Imran\")  # Output: Hello, Imran!"
   ]
  },
  {
   "cell_type": "code",
   "execution_count": null,
   "id": "1219cd90",
   "metadata": {},
   "outputs": [],
   "source": [
    "greet(\"Imran\")  # Output: Hello, Imran!"
   ]
  },
  {
   "cell_type": "markdown",
   "id": "6e1eb5dc",
   "metadata": {},
   "source": [
    "## Function Parameters and Arguments\n",
    "### Parameters: These are the variables defined within the function's parentheses. They act as placeholders for values that will be passed to the function when it's called.\n",
    "### Arguments: These are the actual values passed to the function when it's called. They are assigned to the corresponding parameters."
   ]
  },
  {
   "cell_type": "code",
   "execution_count": null,
   "id": "03828542",
   "metadata": {},
   "outputs": [],
   "source": [
    "def calculate_area(length, width):\n",
    "  area = length * width\n",
    "  return area\n",
    "\n",
    "result = calculate_area(5, 3)\n",
    "print(result)  # Output: 15"
   ]
  },
  {
   "cell_type": "markdown",
   "id": "5968901e",
   "metadata": {},
   "source": [
    "## Return Statement\n",
    "### The return statement is used to specify the value that a function should return. Once the return statement is executed, the function terminates and the specified value is returned to the caller."
   ]
  },
  {
   "cell_type": "markdown",
   "id": "29da4f9d",
   "metadata": {},
   "source": [
    "## Practice Exercises\n",
    "\n",
    "### Simple Function:\n",
    "#### Create a function named greet_with_time that takes a name as input and prints a greeting message along with the current time.\n",
    "### Function with Multiple Parameters:\n",
    "#### Write a function called calculate_average that takes three numbers as input and returns their average.\n",
    "### Default Argument:\n",
    "#### Define a function calculate_discount that takes a price and a discount percentage as input. Set a default discount percentage of 10%.\n",
    "### Keyword Arguments:\n",
    "#### Create a function print_info that takes a name, age, and city as keyword arguments.\n",
    "### Variable-Length Arguments:\n",
    "#### Write a function find_max that can take any number of arguments and returns the maximum value.\n",
    "### Recursive Function:\n",
    "#### Implement a recursive function to calculate the factorial of a number.\n",
    "### Function as an Argument:\n",
    "#### Define a function apply_function that takes a function and a list of numbers as input. Apply the function to each number in the list and return a new list with the results.\n",
    "### Lambda Functions:\n",
    "#### Create a lambda function to square a number.\n",
    "### Higher-Order Functions:\n",
    "#### Write a function apply_operation that takes a function and a list of numbers. Apply the function to each number and return a new list.\n",
    "### Function Decorators:\n",
    "#### Implement a decorator to measure the execution time of a function."
   ]
  },
  {
   "cell_type": "code",
   "execution_count": 9,
   "id": "49ebbbe0",
   "metadata": {},
   "outputs": [
    {
     "name": "stdout",
     "output_type": "stream",
     "text": [
      "Hello ali! , the current time is 23:53.\n"
     ]
    }
   ],
   "source": [
    "#Create a function named greet_with_time that takes a name as input and prints a greeting message along with the current time.\n",
    "def greet_with_time(person):\n",
    "    from datetime import datetime\n",
    "    current_time = datetime.now().strftime(\"%H:%M\")\n",
    "    print(f\"Hello {person}! , the current time is {current_time}.\")\n",
    "greet_with_time(\"ali\")"
   ]
  },
  {
   "cell_type": "code",
   "execution_count": 19,
   "id": "254486aa-b9c8-48b1-a5eb-0e7eb42a414e",
   "metadata": {},
   "outputs": [
    {
     "name": "stdout",
     "output_type": "stream",
     "text": [
      "5.333333333333333\n"
     ]
    }
   ],
   "source": [
    "#Write a function called calculate_average that takes three numbers as input and returns their average.\n",
    "def calculate_average(num1,num2,num3):\n",
    "    return(num1+num2+num3)/3\n",
    "average= calculate_average(3,9,4)\n",
    "print(average)"
   ]
  },
  {
   "cell_type": "code",
   "execution_count": 33,
   "id": "c81f70fb-83e1-4107-8658-8621d819881d",
   "metadata": {},
   "outputs": [
    {
     "name": "stdout",
     "output_type": "stream",
     "text": [
      "63.0\n"
     ]
    }
   ],
   "source": [
    "#Define a function calculate_discount that takes a price and a discount percentage as input. Set a default discount percentage of 10%\n",
    "def calculate_discount(price, discount=10):\n",
    "    final_amount = price - (price * discount/ 100)\n",
    "    print(final_amount)\n",
    "calculate_discount(70)"
   ]
  },
  {
   "cell_type": "code",
   "execution_count": 43,
   "id": "2cdf5f5a-2866-4b5e-9baa-83724a854018",
   "metadata": {},
   "outputs": [
    {
     "name": "stdout",
     "output_type": "stream",
     "text": [
      "Name: sara\n",
      "Age: 70\n",
      "City: lahore\n"
     ]
    }
   ],
   "source": [
    "#Create a function print_info that takes a name, age, and city as keyword arguments.def print_info(*, name, age, city):\n",
    "def print_info(*, name, age, city):\n",
    "    print(f\"Name: {name}\")\n",
    "    print(f\"Age: {age}\")\n",
    "    print(f\"City: {city}\")\n",
    "print_info(name=\"sara\",age=70,city=\"lahore\")"
   ]
  },
  {
   "cell_type": "code",
   "execution_count": 51,
   "id": "1fe23ef4-355e-496c-929f-31dfaa4e2a71",
   "metadata": {},
   "outputs": [
    {
     "name": "stdout",
     "output_type": "stream",
     "text": [
      "14\n"
     ]
    }
   ],
   "source": [
    "#Write a function find_max that can take any number of arguments and returns the maximum value\n",
    "def find_max(*args): \n",
    "    return max(args)\n",
    "print(find_max(7, 8, 1, 6, 14, 11))  # Output: 30"
   ]
  },
  {
   "cell_type": "code",
   "execution_count": 55,
   "id": "e5bb63f4-90a0-444e-8cd3-1cf7ae5ae361",
   "metadata": {},
   "outputs": [
    {
     "name": "stdout",
     "output_type": "stream",
     "text": [
      "40320\n"
     ]
    }
   ],
   "source": [
    "#Implement a recursive function to calculdef fact(num)\n",
    "def fact(num):\n",
    "    if num <= 1:\n",
    "        return 1\n",
    "    return num * fact(num - 1)\n",
    "print(fact(8))"
   ]
  },
  {
   "cell_type": "code",
   "execution_count": 59,
   "id": "d85ce81c-8a7d-4638-844b-f7e03232ef32",
   "metadata": {},
   "outputs": [
    {
     "name": "stdout",
     "output_type": "stream",
     "text": [
      "[961, 400, 49, 196]\n"
     ]
    }
   ],
   "source": [
    "#Define a function apply_function that takes a function and a list of numbers as input. Apply the function to each number in the list and return a new list with the results.\n",
    "def sq(n):\n",
    "    return n * n\n",
    "def apply_function(f, nums):\n",
    "    return [f(i) for i in nums]\n",
    "nums = [31, 20, 7, 14]\n",
    "result = apply_function(sq, nums)\n",
    "print(result)"
   ]
  },
  {
   "cell_type": "code",
   "execution_count": 65,
   "id": "9eaefd94-83d4-4b75-9a0e-c9a303491c0d",
   "metadata": {},
   "outputs": [
    {
     "name": "stdout",
     "output_type": "stream",
     "text": [
      "121\n"
     ]
    }
   ],
   "source": [
    "#Create a lambda function to square a number\n",
    "square = lambda x: x ** 2\n",
    "print(square(11)) "
   ]
  },
  {
   "cell_type": "code",
   "execution_count": null,
   "id": "3d7f2e18-d794-4623-9579-e929e718f044",
   "metadata": {},
   "outputs": [],
   "source": []
  }
 ],
 "metadata": {
  "kernelspec": {
   "display_name": "Python 3 (ipykernel)",
   "language": "python",
   "name": "python3"
  },
  "language_info": {
   "codemirror_mode": {
    "name": "ipython",
    "version": 3
   },
   "file_extension": ".py",
   "mimetype": "text/x-python",
   "name": "python",
   "nbconvert_exporter": "python",
   "pygments_lexer": "ipython3",
   "version": "3.12.4"
  }
 },
 "nbformat": 4,
 "nbformat_minor": 5
}
