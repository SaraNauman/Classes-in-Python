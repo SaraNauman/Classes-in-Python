{
 "cells": [
  {
   "cell_type": "markdown",
   "id": "b4d8749c-287d-4fa9-9c89-880efaa1cbc0",
   "metadata": {},
   "source": [
    "#solved exercises of dictionaries in python"
   ]
  },
  {
   "cell_type": "code",
   "execution_count": 1,
   "id": "e47823ef-72a2-4496-b109-16a23c07f9e7",
   "metadata": {},
   "outputs": [],
   "source": [
    "#dictionary to store information \n",
    "person_info = {'name':'sara', 'age': 30, 'city':'Lahore', 'hobbies':'cricket, sketching, gardening'}"
   ]
  },
  {
   "cell_type": "code",
   "execution_count": 23,
   "id": "466509d3-8a28-4fda-bbd8-e263600df221",
   "metadata": {},
   "outputs": [
    {
     "name": "stdin",
     "output_type": "stream",
     "text": [
      "enter a text: my name is sara and her name is saba\n"
     ]
    },
    {
     "name": "stdout",
     "output_type": "stream",
     "text": [
      "\n",
      "Word Frequency:\n",
      "my : 1\n",
      "name : 2\n",
      "is : 2\n",
      "sara : 1\n",
      "and : 1\n",
      "her : 1\n",
      "saba : 1\n"
     ]
    }
   ],
   "source": [
    "#counting the frequency of words in a given text\n",
    "text = input(\"enter a text:\")\n",
    "words = text.split()\n",
    "word_count ={}\n",
    "for word in words:\n",
    "    if word in word_count:\n",
    "        word_count[word] += 1\n",
    "    else:\n",
    "        word_count[word] = 1\n",
    "print(\"\\nWord Frequency:\")\n",
    "for word, count in word_count.items():\n",
    "    print(f\"{word} : {count}\")"
   ]
  },
  {
   "cell_type": "code",
   "execution_count": 85,
   "id": "e9e0e129-fe7b-46f8-b0ab-34becd8466c4",
   "metadata": {},
   "outputs": [
    {
     "name": "stdout",
     "output_type": "stream",
     "text": [
      "Category Counts: {'food': 4, 'appliance': 2, 'electronics': 1, 'stationary': 2}\n",
      "Most Popular Category: food with 4 orders.\n"
     ]
    }
   ],
   "source": [
    "#Analyze a dataset of customer orders to find the most popular product category\n",
    "orders = [\n",
    "    \"food\", \"appliance\", \"food\",\n",
    "    \"electronics\", \"stationary\", \"food\",\n",
    "    \"food\", \"stationary\", \"appliance\"\n",
    "]\n",
    "          \n",
    "category_count = {}\n",
    "for category in orders:\n",
    "    category_count[category] = category_count.get(category, 0) + 1\n",
    "\n",
    "most_popular_category = max(category_count, key=category_count.get)\n",
    "\n",
    "print(\"Category Counts:\", category_count)\n",
    "print(f\"Most Popular Category: {most_popular_category} with {category_count[most_popular_category]} orders.\")"
   ]
  },
  {
   "cell_type": "code",
   "execution_count": 15,
   "id": "1ecc1866-125a-47d4-a129-f7343880bb23",
   "metadata": {},
   "outputs": [
    {
     "name": "stdin",
     "output_type": "stream",
     "text": [
      "what would you like to do? remove\n",
      "what would you like to remove banana\n",
      "how much would you like to remove 2\n"
     ]
    },
    {
     "name": "stdout",
     "output_type": "stream",
     "text": [
      "2 banana removed\n"
     ]
    }
   ],
   "source": [
    "#implementing a simple inventory system using dictionaries\n",
    "inventory = {\n",
    "          \"apple\": 10,\n",
    "          \"orange\": 30,\n",
    "          \"watermelon\": 29,\n",
    "          \"grape\": 40,\n",
    "          \"pear\": 90,\n",
    "          \"banana\": 56,\n",
    "          \"tomato\": 15}\n",
    "\n",
    "perform = input(\"what would you like to do?\")\n",
    "\n",
    "if perform == 'add':\n",
    "    item = input(\"what would you like to add?\")\n",
    "    amount = input(\"how much would you like to add?\")\n",
    "\n",
    "    print(item + \":\" +amount)\n",
    "\n",
    "elif perform == 'remove':\n",
    "    item = input(\"what would you like to remove\")\n",
    "    amount = input(\"how much would you like to remove\")\n",
    "\n",
    "    print(f\"{amount} {item} removed\")"
   ]
  },
  {
   "cell_type": "code",
   "execution_count": 71,
   "id": "250af9f7-1097-4b75-a5b7-6a1a64cefb7a",
   "metadata": {},
   "outputs": [
    {
     "name": "stdout",
     "output_type": "stream",
     "text": [
      "Student Grades: {'alisha': 85, 'babbar': 92, 'hadia': 78, 'dawood': 88, 'fatima': 91}\n",
      "Average Grade: 86.80\n"
     ]
    }
   ],
   "source": [
    "#Create the dictionary to store student grades and calculate average\n",
    "grades = {\n",
    "    \"alisha\": 85,\n",
    "    \"babbar\": 92,\n",
    "    \"hadia\": 78,\n",
    "    \"dawood\": 88,\n",
    "    \"fatima\": 91}\n",
    "\n",
    "total_grades = sum(grades.values())\n",
    "num_students = len(grades)  \n",
    "\n",
    "average_grade = total_grades / num_students\n",
    "\n",
    "print(\"Student Grades:\", grades)\n",
    "print(f\"Average Grade: {average_grade:.2f}\")"
   ]
  },
  {
   "cell_type": "code",
   "execution_count": 59,
   "id": "46c0cdbe-3e3c-4e49-a4af-5377f8d8fe3b",
   "metadata": {},
   "outputs": [
    {
     "name": "stdin",
     "output_type": "stream",
     "text": [
      "name the product to be added: mousse\n"
     ]
    },
    {
     "name": "stdout",
     "output_type": "stream",
     "text": [
      "\n",
      "Updated Inventory:\n",
      "hair pins: Quantity = 10, Price = $350\n",
      "comb: Quantity = 25, Price = $500\n",
      "shampoo: Quantity = 35, Price = $1200\n",
      "conditioner: Quantity = 15, Price = $790\n",
      "hair straightener: Quantity = 30, Price = $3500\n",
      "mousse: Quantity = 7, Price = $760\n",
      "\n",
      "Total Inventory Value: $180170\n"
     ]
    }
   ],
   "source": [
    "#Create a dictionary to store product information: name, quantity, price\n",
    "\n",
    "inventory = {\n",
    "    \"hair pins\":\n",
    "    {\n",
    "        \"quantity\": 10,\n",
    "        \"price\": 350\n",
    "    },\n",
    "    \"comb\":\n",
    "    {\n",
    "        \"quantity\": 25,\n",
    "        \"price\": 500\n",
    "    },\n",
    "    \"shampoo\": \n",
    "    {\n",
    "        \"quantity\": 35,\n",
    "        \"price\": 1200\n",
    "    },\n",
    "    \"conditioner\": \n",
    "    {\n",
    "        \"quantity\": 15,\n",
    "        \"price\": 790\n",
    "    },\n",
    "    \"hair straightener\": \n",
    "    {\n",
    "        \"quantity\": 30,\n",
    "        \"price\": 3500\n",
    "    }\n",
    "}\n",
    "\n",
    "#Implement functions to:\n",
    "\n",
    "#Add new products\n",
    "\n",
    "added = input(\"name the product to be added:\")\n",
    "\n",
    "inventory[added] = {\n",
    "    'quantity': 7,\n",
    "    'price': 760\n",
    "}\n",
    "\n",
    "# updated product quantities\n",
    "print(\"\\nUpdated Inventory:\")\n",
    "for product, details in inventory.items():\n",
    "    print(f\"{product}: Quantity = {details['quantity']}, Price = ${details['price']}\")\n",
    "\n",
    "#calculate total inventory value\n",
    "total_value = sum(item['quantity'] * item['price'] for item in inventory.values())\n",
    "print(f\"\\nTotal Inventory Value: ${total_value}\")"
   ]
  },
  {
   "cell_type": "code",
   "execution_count": 111,
   "id": "707590f0-c3bf-40bd-9671-bd06d48e4af7",
   "metadata": {},
   "outputs": [
    {
     "name": "stdout",
     "output_type": "stream",
     "text": [
      "Average Grades:\n",
      "ahmed: 70.00\n",
      "rafay: 81.00\n",
      "musa: 69.00\n",
      "\n",
      "Top scorer in Math: rafay with a score of 98\n",
      "Lowest score in Math: musa with a score of 82\n",
      "\n",
      "Students ranked by average grade:\n",
      "rafay: 81.00\n",
      "ahmed: 70.00\n",
      "musa: 69.00\n"
     ]
    }
   ],
   "source": [
    "# Create a dictionary to store student information: name, grades for different subjects\n",
    "students_info = {\n",
    "    \"ahmed\": [90, 52, 68],\n",
    "    \"rafay\": [98, 55, 90],\n",
    "    \"musa\": [82, 71, 54]\n",
    "}\n",
    "\n",
    "subjects = [\"Math\", \"Science\", \"History\"]\n",
    "\n",
    "#Calculate the average grade for each student.\n",
    "def calculate_average(grades):\n",
    "    return sum(grades) / len(grades)\n",
    "print(\"Average Grades:\")\n",
    "for student, grades in students_info.items():\n",
    "    avg = calculate_average(grades)\n",
    "    print(f\"{student}: {avg:.2f}\")\n",
    "\n",
    "\n",
    "# find the highest and lowest scores in a specific subject\n",
    "def find_highest_and_lowest(subject_index):\n",
    "    scores = {student: grades[subject_index] for student, grades in students_info.items()}\n",
    "    highest_student = max(scores, key=scores.get)\n",
    "    lowest_student = min(scores, key=scores.get)\n",
    "    return (highest_student, scores[highest_student]), (lowest_student, scores[lowest_student])\n",
    "highest, lowest = find_highest_and_lowest(0)\n",
    "print(f\"\\nTop scorer in {subjects[0]}: {highest[0]} with a score of {highest[1]}\")\n",
    "print(f\"Lowest score in {subjects[0]}: {lowest[0]} with a score of {lowest[1]}\")\n",
    "\n",
    "#sort students by their average grades\n",
    "def sort_students_by_average():\n",
    "    return sorted(students_info.items(), key=lambda x: calculate_average(x[1]), reverse=True)\n",
    "print(\"\\nStudents ranked by average grade:\")\n",
    "sorted_students = sort_students_by_average()\n",
    "for student, grades in sorted_students:\n",
    "    avg = calculate_average(grades)\n",
    "    print(f\"{student}: {avg:.2f}\")\n",
    "\n"
   ]
  },
  {
   "cell_type": "code",
   "execution_count": 113,
   "id": "934c9e55-05d5-4ef3-88c9-756d96c31bf5",
   "metadata": {},
   "outputs": [
    {
     "name": "stdout",
     "output_type": "stream",
     "text": [
      "Total cost: $1555.20\n"
     ]
    }
   ],
   "source": [
    "\n",
    "inventory = {\n",
    "    \"Laptop\": {\"price\": 800, \"stock\": 10},\n",
    "    \"Headphones\": {\"price\": 100, \"stock\": 20},\n",
    "    \"Smartphone\": {\"price\": 500, \"stock\": 15},\n",
    "    \"Keyboard\": {\"price\": 50, \"stock\": 30}\n",
    "}\n",
    "\n",
    "cart = {}\n",
    "\n",
    "#Implement a shopping cart feature where users can add and remove products\n",
    "def add_to_cart(item, quantity):\n",
    "    if item in inventory and inventory[item][\"stock\"] >= quantity:\n",
    "        if item in cart:\n",
    "            cart[item][\"quantity\"] += quantity\n",
    "        else:\n",
    "            cart[item] = {\"price\": inventory[item][\"price\"], \"quantity\": quantity}\n",
    "        inventory[item][\"stock\"] -= quantity\n",
    "    else:\n",
    "        print(f\"Cannot add {quantity} {item}(s)\")\n",
    "\n",
    "def remove_from_cart(item, quantity):\n",
    "    if item in cart and cart[item][\"quantity\"] >= quantity:\n",
    "        cart[item][\"quantity\"] -= quantity\n",
    "        inventory[item][\"stock\"] += quantity\n",
    "        if cart[item][\"quantity\"] == 0:\n",
    "            del cart[item]\n",
    "    else:\n",
    "        print(f\"Cannot remove {quantity} {item}(s)\")\n",
    "        \n",
    "#Calculate the total cost of items in the cart\n",
    "def get_total():\n",
    "    return sum(cart[item][\"price\"] * cart[item][\"quantity\"] for item in cart)\n",
    "    \n",
    "#Apply discounts and taxes to the total cost.\n",
    "def checkout(discount=0, tax=0):\n",
    "    total = get_total()\n",
    "    total -= total * (discount / 100)\n",
    "    total += total * (tax / 100)\n",
    "    return total\n",
    "\n",
    "add_to_cart(\"Laptop\", 2)\n",
    "add_to_cart(\"Headphones\", 1)\n",
    "remove_from_cart(\"Headphones\", 1)\n",
    "print(f\"Total cost: ${checkout(discount=10, tax=8):.2f}\")"
   ]
  },
  {
   "cell_type": "code",
   "execution_count": null,
   "id": "bf31c96c-29f6-42fe-ae20-3f3979103a8c",
   "metadata": {},
   "outputs": [],
   "source": []
  }
 ],
 "metadata": {
  "kernelspec": {
   "display_name": "Python 3 (ipykernel)",
   "language": "python",
   "name": "python3"
  },
  "language_info": {
   "codemirror_mode": {
    "name": "ipython",
    "version": 3
   },
   "file_extension": ".py",
   "mimetype": "text/x-python",
   "name": "python",
   "nbconvert_exporter": "python",
   "pygments_lexer": "ipython3",
   "version": "3.12.4"
  }
 },
 "nbformat": 4,
 "nbformat_minor": 5
}
